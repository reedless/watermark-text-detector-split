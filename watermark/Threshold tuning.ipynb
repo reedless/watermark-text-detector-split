{
 "cells": [
  {
   "cell_type": "code",
   "execution_count": 1,
   "id": "c595d0df",
   "metadata": {},
   "outputs": [],
   "source": [
    "import json\n",
    "\n",
    "with open(f'benchmark/test_output.json', 'r') as f:\n",
    "    output_dict_benchmark = json.loads(f.read())\n",
    "    \n",
    "with open(f'output/test_output.json', 'r') as f:\n",
    "    output_dict = json.loads(f.read())"
   ]
  },
  {
   "cell_type": "code",
   "execution_count": 2,
   "id": "845abbc1",
   "metadata": {},
   "outputs": [
    {
     "data": {
      "text/plain": [
       "200"
      ]
     },
     "execution_count": 2,
     "metadata": {},
     "output_type": "execute_result"
    }
   ],
   "source": [
    "len(output_dict_benchmark['clean'])"
   ]
  },
  {
   "cell_type": "code",
   "execution_count": 3,
   "id": "c87dcb4d",
   "metadata": {},
   "outputs": [
    {
     "data": {
      "text/plain": [
       "100"
      ]
     },
     "execution_count": 3,
     "metadata": {},
     "output_type": "execute_result"
    }
   ],
   "source": [
    "len(output_dict['watermark'])"
   ]
  },
  {
   "cell_type": "code",
   "execution_count": 48,
   "id": "4029ebce",
   "metadata": {},
   "outputs": [
    {
     "data": {
      "image/png": "[encoded data removed]",
      "text/plain": [
       "<Figure size 1080x216 with 1 Axes>"
      ]
     },
     "metadata": {
      "needs_background": "light"
     },
     "output_type": "display_data"
    },
    {
     "name": "stdout",
     "output_type": "stream",
     "text": [
      "TP:  53\n",
      "FN:  47\n",
      "TN:  183\n",
      "FP:  17\n",
      "Accuracy:  0.7866666666666666\n",
      "Weighted Accuracy:  0.7225\n",
      "TP %:  0.53\n",
      "TN %:  0.915\n"
     ]
    }
   ],
   "source": [
    "import numpy as np\n",
    "import matplotlib.pyplot as plt\n",
    "\n",
    "thres = 0.65\n",
    "\n",
    "# define x axis values, then sum for y axis values clean and watermark\n",
    "x = np.arange(0.0, 1, 0.01)\n",
    "watermark_binned_scores = [0 for _ in range(len(x))]\n",
    "clean_binned_scores = [0 for _ in range(len(x))]\n",
    "\n",
    "for key in output_dict.keys():\n",
    "    for i in range(len(output_dict[key])):\n",
    "        if (output_dict[key][i]):\n",
    "            idx = round(output_dict[key][i][0] * 100)\n",
    "        else:\n",
    "            idx = 0\n",
    "        if 'watermark' in key:\n",
    "            watermark_binned_scores[idx] += 1\n",
    "        else:\n",
    "            clean_binned_scores[idx] += 1\n",
    "\n",
    "# plot and show bar chart\n",
    "plt.figure(figsize=(15, 3))\n",
    "plt.bar(x-0.001, watermark_binned_scores, width=0.001, color='orange', label='watermarked')\n",
    "plt.bar(x+0.002, clean_binned_scores, width=0.001, color='blue', label='clean')\n",
    "plt.axvline(thres, color='red')\n",
    "plt.legend()\n",
    "plt.show()\n",
    "\n",
    "# calculate metrics\n",
    "TP = sum(watermark_binned_scores[round(thres * 100):])\n",
    "FN = sum(watermark_binned_scores[:round(thres * 100)])\n",
    "TN = sum(clean_binned_scores[:round(thres * 100)])\n",
    "FP = sum(clean_binned_scores[round(thres * 100):])\n",
    "\n",
    "positives = len(output_dict['watermark'])\n",
    "negatives = len(output_dict['clean'])\n",
    "\n",
    "print(\"TP: \", TP)\n",
    "print(\"FN: \", FN)\n",
    "print(\"TN: \", TN)\n",
    "print(\"FP: \", FP)\n",
    "print(\"Accuracy: \", ((TP+TN)/(positives+negatives)))\n",
    "print(\"Weighted Accuracy: \", ((TP/positives) + (TN/negatives))/2)\n",
    "print(\"TP %: \", TP / positives)\n",
    "print(\"TN %: \", TN / negatives)"
   ]
  },
  {
   "cell_type": "code",
   "execution_count": null,
   "id": "e2146693",
   "metadata": {},
   "outputs": [],
   "source": []
  },
  {
   "cell_type": "code",
   "execution_count": null,
   "id": "edda8183",
   "metadata": {},
   "outputs": [],
   "source": []
  },
  {
   "cell_type": "code",
   "execution_count": null,
   "id": "7edf3418",
   "metadata": {},
   "outputs": [],
   "source": []
  },
  {
   "cell_type": "code",
   "execution_count": null,
   "id": "2bff2dee",
   "metadata": {},
   "outputs": [],
   "source": []
  },
  {
   "cell_type": "code",
   "execution_count": null,
   "id": "02b624f0",
   "metadata": {},
   "outputs": [],
   "source": []
  },
  {
   "cell_type": "code",
   "execution_count": null,
   "id": "e0f01ffd",
   "metadata": {},
   "outputs": [],
   "source": []
  },
  {
   "cell_type": "code",
   "execution_count": null,
   "id": "29ed0ac7",
   "metadata": {},
   "outputs": [],
   "source": []
  },
  {
   "cell_type": "code",
   "execution_count": null,
   "id": "b4a43260",
   "metadata": {},
   "outputs": [],
   "source": []
  },
  {
   "cell_type": "code",
   "execution_count": 66,
   "id": "18840a03",
   "metadata": {},
   "outputs": [],
   "source": [
    "import numpy as np\n",
    "import matplotlib.pyplot as plt\n",
    "    \n",
    "def optimise(output_dict, thres=0.5):\n",
    "    # define x axis values, then sum for y axis values clean and watermark\n",
    "    x = np.arange(0.0, 1, 0.01)\n",
    "    watermark_binned_scores = [0 for _ in range(len(x))]\n",
    "    clean_binned_scores = [0 for _ in range(len(x))]\n",
    "\n",
    "    for key in output_dict.keys():\n",
    "        for i in range(len(output_dict[key])):\n",
    "            if (output_dict[key][i]):\n",
    "                idx = round(output_dict[key][i][0] * 100)\n",
    "            else:\n",
    "                idx = 0\n",
    "            if 'watermark' in key:\n",
    "                watermark_binned_scores[idx] += 1\n",
    "            else:\n",
    "                clean_binned_scores[idx] += 1\n",
    "                   \n",
    "    # calculate metrics\n",
    "    TP = sum(watermark_binned_scores[round(thres * 100):])\n",
    "    FN = sum(watermark_binned_scores[:round(thres * 100)])\n",
    "    TN = sum(clean_binned_scores[:round(thres * 100)])\n",
    "    FP = sum(clean_binned_scores[round(thres * 100):])\n",
    "\n",
    "    positives = len(output_dict['watermark'])\n",
    "    negatives = len(output_dict['clean'])\n",
    "\n",
    "    print(\"TP: \", TP)\n",
    "    print(\"FN: \", FN)\n",
    "    print(\"TN: \", TN)\n",
    "    print(\"FP: \", FP)\n",
    "    print(\"Accuracy: \", ((TP+TN)/(positives+negatives)))\n",
    "    print(\"Weighted Accuracy: \", ((TP/positives) + (TN/negatives))/2)\n",
    "    print(\"TP %: \", TP / positives)\n",
    "    print(\"TN %: \", TN / negatives)\n",
    "    \n",
    "    # limit height of true negatives\n",
    "    max_height = 20\n",
    "    clean_binned_scores[0] = max_height if clean_binned_scores[0] > max_height else clean_binned_scores[0]\n",
    "    watermark_binned_scores[0] = max_height if watermark_binned_scores[0] > max_height else watermark_binned_scores[0]\n",
    "    \n",
    "    # plot and show bar chart\n",
    "    plt.figure(figsize=(15, 3))\n",
    "    plt.bar(x-0.001, watermark_binned_scores, width=0.001, color='orange', label='watermarked')\n",
    "    plt.bar(x+0.002, clean_binned_scores, width=0.001, color='blue', label='clean')\n",
    "    plt.axvline(thres, color='red')\n",
    "    plt.legend()\n",
    "    plt.show()"
   ]
  },
  {
   "cell_type": "code",
   "execution_count": 75,
   "id": "7d42489a",
   "metadata": {
    "scrolled": false
   },
   "outputs": [
    {
     "name": "stdout",
     "output_type": "stream",
     "text": [
      "TP:  53\n",
      "FN:  47\n",
      "TN:  183\n",
      "FP:  17\n",
      "Accuracy:  0.7866666666666666\n",
      "Weighted Accuracy:  0.7225\n",
      "TP %:  0.53\n",
      "TN %:  0.915\n"
     ]
    },
    {
     "data": {
      "image/png": "[encoded data removed]",
      "text/plain": [
       "<Figure size 1080x216 with 1 Axes>"
      ]
     },
     "metadata": {
      "needs_background": "light"
     },
     "output_type": "display_data"
    }
   ],
   "source": [
    "optimise(output_dict, 0.65)"
   ]
  },
  {
   "cell_type": "code",
   "execution_count": 76,
   "id": "17beba63",
   "metadata": {},
   "outputs": [
    {
     "name": "stdout",
     "output_type": "stream",
     "text": [
      "TP:  52\n",
      "FN:  48\n",
      "TN:  167\n",
      "FP:  33\n",
      "Accuracy:  0.73\n",
      "Weighted Accuracy:  0.6775\n",
      "TP %:  0.52\n",
      "TN %:  0.835\n"
     ]
    },
    {
     "data": {
      "image/png": "[encoded data removed]",
      "text/plain": [
       "<Figure size 1080x216 with 1 Axes>"
      ]
     },
     "metadata": {
      "needs_background": "light"
     },
     "output_type": "display_data"
    }
   ],
   "source": [
    "optimise(output_dict_benchmark, 0.6)"
   ]
  },
  {
   "cell_type": "code",
   "execution_count": null,
   "id": "4bf97fff",
   "metadata": {},
   "outputs": [],
   "source": []
  }
 ],
 "metadata": {
  "kernelspec": {
   "display_name": "l2l",
   "language": "python",
   "name": "l2l"
  },
  "language_info": {
   "codemirror_mode": {
    "name": "ipython",
    "version": 3
   },
   "file_extension": ".py",
   "mimetype": "text/x-python",
   "name": "python",
   "nbconvert_exporter": "python",
   "pygments_lexer": "ipython3",
   "version": "3.8.10"
  }
 },
 "nbformat": 4,
 "nbformat_minor": 5
}
